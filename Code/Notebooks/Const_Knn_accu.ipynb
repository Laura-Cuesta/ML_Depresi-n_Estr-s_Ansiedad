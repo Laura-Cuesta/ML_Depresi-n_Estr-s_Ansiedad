{
 "cells": [
  {
   "cell_type": "code",
   "execution_count": 1,
   "metadata": {},
   "outputs": [],
   "source": [
    "# COMENZAMOS CON EL ENTRENAMIENTO DE LOS MODELOSfrom sklearn.model_selection import train_test_split\n",
    "\n",
    "import pandas as pd\n",
    "import matplotlib.pyplot as plt\n",
    "import seaborn as sns\n",
    "import numpy as np\n",
    "from sys import path\n",
    "sys.path.append('C:\\\\Users\\\\Laura\\\\Desktop\\\\Nueva carpeta\\\\Code\\\\util')\n",
    "\n",
    "from funciones import graficos_conf_matrix\n",
    "\n",
    "\n",
    "from sklearn.preprocessing import MinMaxScaler\n",
    "from sklearn.model_selection import GridSearchCV, RandomizedSearchCV\n",
    "\n",
    "from sklearn.model_selection import train_test_split\n",
    "from sklearn.metrics import roc_auc_score, accuracy_score,confusion_matrix,recall_score, f1_score\n",
    "from sklearn.neighbors import KNeighborsClassifier\n",
    "from sklearn.pipeline import Pipeline\n",
    "\n",
    "import pickle\n",
    "from matplotlib.colors import ListedColormap\n",
    "import matplotlib.patches as mpatches"
   ]
  },
  {
   "cell_type": "code",
   "execution_count": 2,
   "metadata": {},
   "outputs": [],
   "source": [
    "# IMPORTAMOS EL CSV YA LIMPIO .\n",
    "# LO VAMOS A DIVIDIR EN DOS, UNA PARTE PARA EL ENTRENAMIENTO-PREDICCIONES Y OTRA PARTE PARA EL TEST, COMO SI DE DATOS REALES SE TRATARAN\n",
    "\n",
    "\n",
    "data_train = pd.read_csv('../Data/Processed/data_processed.csv', index_col=0)\n",
    "\n",
    "data_train = data_train.iloc[:int(data_train.shape[0]*60/100), :]\n",
    "data_test = data_train.iloc[int(data_train.shape[0]*60/100) : , :]\n",
    "\n",
    "\n",
    "\n"
   ]
  },
  {
   "cell_type": "code",
   "execution_count": 3,
   "metadata": {},
   "outputs": [],
   "source": [
    "# DIVIDIMOS EN DATA_TRAIN EN TRAIN Y TEST\n",
    "\n",
    "\n",
    "X_train, X_test, y_train, y_test = train_test_split(data_train.drop(columns=['Target','Anxiety','Stress'], axis=1), data_train.Target, random_state=0, test_size=0.20, shuffle=True)\n",
    "\n",
    "scale = MinMaxScaler()\n",
    "scale.fit(X_train)\n",
    "\n",
    "X_train_scale = scale.transform(X_train)\n",
    "X_test_scale= scale.transform(X_test)\n"
   ]
  },
  {
   "cell_type": "markdown",
   "metadata": {},
   "source": [
    "KNN"
   ]
  },
  {
   "cell_type": "code",
   "execution_count": 4,
   "metadata": {},
   "outputs": [],
   "source": [
    "# CON KNN VAMOS A VER PRIMERO CUAL ES EL MEJOR VALOR DE LA K SIN UTILIZAR GRIDSEARCH NI PIPELINE. ADEMAS ESCALO LOS DATOS PRIMERO"
   ]
  },
  {
   "cell_type": "code",
   "execution_count": 5,
   "metadata": {},
   "outputs": [],
   "source": [
    "k_range= range(1,100)\n",
    "scores = []\n",
    "\n",
    "for k in k_range:\n",
    "    knn = KNeighborsClassifier(k)\n",
    "    knn.fit(X_train_scale, y_train)\n",
    "    scores.append(knn.score(X_test_scale, y_test))\n"
   ]
  },
  {
   "cell_type": "code",
   "execution_count": 6,
   "metadata": {},
   "outputs": [
    {
     "data": {
      "image/png": "[encoded data removed]",
      "text/plain": [
       "<Figure size 1080x576 with 1 Axes>"
      ]
     },
     "metadata": {
      "needs_background": "light"
     },
     "output_type": "display_data"
    }
   ],
   "source": [
    "plt.figure(figsize=(15,8))\n",
    "\n",
    "plt.xlabel('k')\n",
    "plt.ylabel('accuracy')\n",
    "plt.scatter(k_range, scores)\n",
    "plt.xticks(np.arange(0,100,5));"
   ]
  },
  {
   "cell_type": "code",
   "execution_count": 7,
   "metadata": {},
   "outputs": [
    {
     "data": {
      "text/plain": [
       "array([72])"
      ]
     },
     "execution_count": 7,
     "metadata": {},
     "output_type": "execute_result"
    }
   ],
   "source": [
    "np.array(k_range)[scores ==max(scores)]"
   ]
  },
  {
   "cell_type": "code",
   "execution_count": 8,
   "metadata": {},
   "outputs": [
    {
     "data": {
      "text/html": [
       "<div>\n",
       "<style scoped>\n",
       "    .dataframe tbody tr th:only-of-type {\n",
       "        vertical-align: middle;\n",
       "    }\n",
       "\n",
       "    .dataframe tbody tr th {\n",
       "        vertical-align: top;\n",
       "    }\n",
       "\n",
       "    .dataframe thead th {\n",
       "        text-align: right;\n",
       "    }\n",
       "</style>\n",
       "<table border=\"1\" class=\"dataframe\">\n",
       "  <thead>\n",
       "    <tr style=\"text-align: right;\">\n",
       "      <th></th>\n",
       "      <th>urban</th>\n",
       "      <th>age</th>\n",
       "      <th>gender</th>\n",
       "      <th>religion</th>\n",
       "      <th>orientation</th>\n",
       "      <th>married</th>\n",
       "      <th>race</th>\n",
       "      <th>familysize</th>\n",
       "      <th>Depression</th>\n",
       "    </tr>\n",
       "  </thead>\n",
       "  <tbody>\n",
       "    <tr>\n",
       "      <th>12078</th>\n",
       "      <td>2</td>\n",
       "      <td>15</td>\n",
       "      <td>2</td>\n",
       "      <td>2</td>\n",
       "      <td>3</td>\n",
       "      <td>1</td>\n",
       "      <td>60</td>\n",
       "      <td>2</td>\n",
       "      <td>36</td>\n",
       "    </tr>\n",
       "    <tr>\n",
       "      <th>2396</th>\n",
       "      <td>1</td>\n",
       "      <td>26</td>\n",
       "      <td>2</td>\n",
       "      <td>4</td>\n",
       "      <td>1</td>\n",
       "      <td>2</td>\n",
       "      <td>10</td>\n",
       "      <td>1</td>\n",
       "      <td>33</td>\n",
       "    </tr>\n",
       "    <tr>\n",
       "      <th>6472</th>\n",
       "      <td>3</td>\n",
       "      <td>16</td>\n",
       "      <td>2</td>\n",
       "      <td>10</td>\n",
       "      <td>1</td>\n",
       "      <td>1</td>\n",
       "      <td>10</td>\n",
       "      <td>2</td>\n",
       "      <td>6</td>\n",
       "    </tr>\n",
       "    <tr>\n",
       "      <th>16588</th>\n",
       "      <td>1</td>\n",
       "      <td>20</td>\n",
       "      <td>2</td>\n",
       "      <td>10</td>\n",
       "      <td>2</td>\n",
       "      <td>1</td>\n",
       "      <td>10</td>\n",
       "      <td>4</td>\n",
       "      <td>34</td>\n",
       "    </tr>\n",
       "    <tr>\n",
       "      <th>8740</th>\n",
       "      <td>2</td>\n",
       "      <td>22</td>\n",
       "      <td>2</td>\n",
       "      <td>10</td>\n",
       "      <td>1</td>\n",
       "      <td>1</td>\n",
       "      <td>10</td>\n",
       "      <td>5</td>\n",
       "      <td>2</td>\n",
       "    </tr>\n",
       "    <tr>\n",
       "      <th>...</th>\n",
       "      <td>...</td>\n",
       "      <td>...</td>\n",
       "      <td>...</td>\n",
       "      <td>...</td>\n",
       "      <td>...</td>\n",
       "      <td>...</td>\n",
       "      <td>...</td>\n",
       "      <td>...</td>\n",
       "      <td>...</td>\n",
       "    </tr>\n",
       "    <tr>\n",
       "      <th>13123</th>\n",
       "      <td>2</td>\n",
       "      <td>27</td>\n",
       "      <td>2</td>\n",
       "      <td>7</td>\n",
       "      <td>1</td>\n",
       "      <td>1</td>\n",
       "      <td>60</td>\n",
       "      <td>2</td>\n",
       "      <td>3</td>\n",
       "    </tr>\n",
       "    <tr>\n",
       "      <th>19648</th>\n",
       "      <td>3</td>\n",
       "      <td>36</td>\n",
       "      <td>2</td>\n",
       "      <td>10</td>\n",
       "      <td>1</td>\n",
       "      <td>1</td>\n",
       "      <td>10</td>\n",
       "      <td>3</td>\n",
       "      <td>29</td>\n",
       "    </tr>\n",
       "    <tr>\n",
       "      <th>9845</th>\n",
       "      <td>3</td>\n",
       "      <td>16</td>\n",
       "      <td>2</td>\n",
       "      <td>10</td>\n",
       "      <td>2</td>\n",
       "      <td>1</td>\n",
       "      <td>10</td>\n",
       "      <td>3</td>\n",
       "      <td>40</td>\n",
       "    </tr>\n",
       "    <tr>\n",
       "      <th>10799</th>\n",
       "      <td>3</td>\n",
       "      <td>17</td>\n",
       "      <td>2</td>\n",
       "      <td>4</td>\n",
       "      <td>1</td>\n",
       "      <td>1</td>\n",
       "      <td>60</td>\n",
       "      <td>3</td>\n",
       "      <td>9</td>\n",
       "    </tr>\n",
       "    <tr>\n",
       "      <th>2732</th>\n",
       "      <td>3</td>\n",
       "      <td>22</td>\n",
       "      <td>2</td>\n",
       "      <td>7</td>\n",
       "      <td>1</td>\n",
       "      <td>1</td>\n",
       "      <td>60</td>\n",
       "      <td>3</td>\n",
       "      <td>22</td>\n",
       "    </tr>\n",
       "  </tbody>\n",
       "</table>\n",
       "<p>19092 rows × 9 columns</p>\n",
       "</div>"
      ],
      "text/plain": [
       "       urban  age  gender  religion  orientation  married  race  familysize  \\\n",
       "12078      2   15       2         2            3        1    60           2   \n",
       "2396       1   26       2         4            1        2    10           1   \n",
       "6472       3   16       2        10            1        1    10           2   \n",
       "16588      1   20       2        10            2        1    10           4   \n",
       "8740       2   22       2        10            1        1    10           5   \n",
       "...      ...  ...     ...       ...          ...      ...   ...         ...   \n",
       "13123      2   27       2         7            1        1    60           2   \n",
       "19648      3   36       2        10            1        1    10           3   \n",
       "9845       3   16       2        10            2        1    10           3   \n",
       "10799      3   17       2         4            1        1    60           3   \n",
       "2732       3   22       2         7            1        1    60           3   \n",
       "\n",
       "       Depression  \n",
       "12078          36  \n",
       "2396           33  \n",
       "6472            6  \n",
       "16588          34  \n",
       "8740            2  \n",
       "...           ...  \n",
       "13123           3  \n",
       "19648          29  \n",
       "9845           40  \n",
       "10799           9  \n",
       "2732           22  \n",
       "\n",
       "[19092 rows x 9 columns]"
      ]
     },
     "execution_count": 8,
     "metadata": {},
     "output_type": "execute_result"
    }
   ],
   "source": [
    "X_train"
   ]
  },
  {
   "cell_type": "code",
   "execution_count": 9,
   "metadata": {},
   "outputs": [
    {
     "data": {
      "text/plain": [
       "array([[ 2., 15.,  2., ..., 60.,  2., 36.],\n",
       "       [ 1., 26.,  2., ..., 10.,  1., 33.],\n",
       "       [ 3., 16.,  2., ..., 10.,  2.,  6.],\n",
       "       ...,\n",
       "       [ 3., 16.,  2., ..., 10.,  3., 40.],\n",
       "       [ 3., 17.,  2., ..., 60.,  3.,  9.],\n",
       "       [ 3., 22.,  2., ..., 60.,  3., 22.]])"
      ]
     },
     "execution_count": 9,
     "metadata": {},
     "output_type": "execute_result"
    }
   ],
   "source": [
    "X_train = scale.inverse_transform(X_train_scale)\n",
    "X_test = scale.inverse_transform(X_test_scale)\n",
    "X_train"
   ]
  },
  {
   "cell_type": "code",
   "execution_count": 11,
   "metadata": {},
   "outputs": [
    {
     "data": {
      "text/plain": [
       "RandomizedSearchCV(cv=5,\n",
       "                   estimator=Pipeline(steps=[('scaler', MinMaxScaler()),\n",
       "                                             ('knn', KNeighborsClassifier())]),\n",
       "                   param_distributions={'knn__n_neighbors': range(20, 75)},\n",
       "                   scoring='accuracy')"
      ]
     },
     "execution_count": 11,
     "metadata": {},
     "output_type": "execute_result"
    }
   ],
   "source": [
    "\n",
    "# \n",
    "# CREACION DE PIPELINE INICIAL.\n",
    "# HACEMOS UN RANDOMIZW CROSS VALIDATIION\n",
    "# LO INSTANCIAMOS\n",
    "\n",
    "model_knn = Pipeline (steps = [\n",
    "                     ('scaler', MinMaxScaler()),\n",
    "                     ('knn', KNeighborsClassifier())]\n",
    "                    )  \n",
    "\n",
    "\n",
    "params = {'knn__n_neighbors' : range(20,75,1)\n",
    "         }\n",
    "\n",
    "\n",
    "model_knn_gtc = RandomizedSearchCV(model_knn, params, cv=5, scoring='accuracy')\n",
    "model_knn_gtc.fit(X_train, y_train)"
   ]
  },
  {
   "cell_type": "code",
   "execution_count": 12,
   "metadata": {},
   "outputs": [
    {
     "name": "stdout",
     "output_type": "stream",
     "text": [
      "{'knn__n_neighbors': 66}\n",
      "Pipeline(steps=[('scaler', MinMaxScaler()),\n",
      "                ('knn', KNeighborsClassifier(n_neighbors=66))])\n"
     ]
    }
   ],
   "source": [
    "# SACAMOS LOS MEJORES PARÁMETROS PARA ENTRENAR EL MODELO\n",
    "\n",
    "print (model_knn_gtc.best_params_)\n",
    "print (model_knn_gtc.best_estimator_)"
   ]
  },
  {
   "cell_type": "code",
   "execution_count": 13,
   "metadata": {},
   "outputs": [],
   "source": [
    "#CREAMOS UN NUEVO PIPELINE CON EL RESULTADO MEJOR RESULTADO DEL GRIDSEARCH\n",
    "model_knn_V1 = model_knn_gtc.best_estimator_"
   ]
  },
  {
   "cell_type": "code",
   "execution_count": 14,
   "metadata": {},
   "outputs": [
    {
     "data": {
      "text/plain": [
       "Pipeline(steps=[('scaler', MinMaxScaler()),\n",
       "                ('knn', KNeighborsClassifier(n_neighbors=66))])"
      ]
     },
     "execution_count": 14,
     "metadata": {},
     "output_type": "execute_result"
    }
   ],
   "source": [
    "model_knn_V1"
   ]
  },
  {
   "cell_type": "code",
   "execution_count": 15,
   "metadata": {},
   "outputs": [],
   "source": [
    "# ENTRENAMOS EL MODELO Y SACAMOS LAS PREDICCIONES\n",
    "\n",
    "model_knn_V1.fit(X_train,y_train)\n",
    "y_predi = model_knn_V1.predict(X_test)"
   ]
  },
  {
   "cell_type": "code",
   "execution_count": 16,
   "metadata": {},
   "outputs": [
    {
     "data": {
      "text/plain": [
       "array([1, 0, 1, ..., 0, 1, 0], dtype=int64)"
      ]
     },
     "execution_count": 16,
     "metadata": {},
     "output_type": "execute_result"
    }
   ],
   "source": [
    "y_predi"
   ]
  },
  {
   "cell_type": "code",
   "execution_count": 17,
   "metadata": {},
   "outputs": [
    {
     "name": "stdout",
     "output_type": "stream",
     "text": [
      "0.8632450331125828\n",
      "0.8506185234016993\n",
      "0.8539702493190865\n",
      "0.8820842497039418\n"
     ]
    }
   ],
   "source": [
    "print (recall_score(y_test,y_predi))\n",
    "print (roc_auc_score(y_test,y_predi))\n",
    "print (accuracy_score(y_test, y_predi))\n",
    "print (f1_score(y_test, y_predi))"
   ]
  },
  {
   "cell_type": "code",
   "execution_count": 18,
   "metadata": {},
   "outputs": [],
   "source": [
    "# PASAMOS LAS METRICAS A UN DATAFRAM\n",
    "\n",
    "# df_scores = pd.read_csv('../Model/scores_models_Accu.csv', index_col=0)\n",
    "# df_scores['knn_data_train'] =[recall_score(y_test,y_predi), roc_auc_score(y_test,y_predi),  accuracy_score(y_test, y_predi), f1_score(y_test, y_predi)]\n",
    "\n",
    "\n",
    "# df_scores"
   ]
  },
  {
   "cell_type": "code",
   "execution_count": 19,
   "metadata": {},
   "outputs": [],
   "source": [
    "# GUARDAMOS LA CONFUSION MATRIX PARA DESPUES GRAFICARLA\n",
    "c_matrix_train = confusion_matrix(y_test, y_predi)"
   ]
  },
  {
   "cell_type": "code",
   "execution_count": 20,
   "metadata": {},
   "outputs": [],
   "source": [
    "# GUARDAMOS EL MODELO\n",
    "\n",
    "with open('../Model/model_knn_V1', 'wb') as archivo_salida:\n",
    "    pickle.dump(model_knn_V1, archivo_salida)"
   ]
  },
  {
   "cell_type": "code",
   "execution_count": 21,
   "metadata": {},
   "outputs": [],
   "source": [
    "# PROBAMOS EL MODELO CON LOS DATOS RESERVADOS PARA VER COMO GENERALIZA\n",
    "\n",
    "X = data_test.drop(columns=['Target','Anxiety','Stress'], axis=1)\n",
    "y= data_test.Target\n",
    "\n",
    "with open('../Model/model_knn_V1', 'rb') as archivo_entrada:\n",
    "    loaded_model = pickle.load(archivo_entrada)"
   ]
  },
  {
   "cell_type": "code",
   "execution_count": 22,
   "metadata": {},
   "outputs": [
    {
     "data": {
      "text/plain": [
       "Pipeline(steps=[('scaler', MinMaxScaler()),\n",
       "                ('knn', KNeighborsClassifier(n_neighbors=66))])"
      ]
     },
     "execution_count": 22,
     "metadata": {},
     "output_type": "execute_result"
    }
   ],
   "source": [
    "loaded_model"
   ]
  },
  {
   "cell_type": "code",
   "execution_count": 23,
   "metadata": {},
   "outputs": [],
   "source": [
    "# PASAMOS LAS METRICAS A UN DATAFRAM\n",
    "# df_scores['knn_data_test'] =[recall_score(y,loaded_model.predict(X)), roc_auc_score(y,loaded_model.predict(X)), accuracy_score(y, loaded_model.predict(X)), f1_score(y, loaded_model.predict(X))]\n",
    "# df_scores.to_csv('../Model/scores_models_Accu.csv')\n",
    "# df_scores"
   ]
  },
  {
   "cell_type": "code",
   "execution_count": 24,
   "metadata": {},
   "outputs": [
    {
     "name": "stderr",
     "output_type": "stream",
     "text": [
      "C:\\Users\\Laura\\AppData\\Local\\Programs\\Python\\Python37\\lib\\site-packages\\sklearn\\base.py:444: UserWarning: X has feature names, but MinMaxScaler was fitted without feature names\n",
      "  f\"X has feature names, but {self.__class__.__name__} was fitted without\"\n"
     ]
    }
   ],
   "source": [
    "# GUARDAMOS LA CONFUSION MATRIX PARA DESPUES GRAFICARLA\n",
    "c_matrix_test = confusion_matrix(y,loaded_model.predict(X))"
   ]
  },
  {
   "cell_type": "code",
   "execution_count": 26,
   "metadata": {},
   "outputs": [
    {
     "data": {
      "image/png": "[encoded data removed]",
      "text/plain": [
       "<Figure size 1080x432 with 4 Axes>"
      ]
     },
     "metadata": {},
     "output_type": "display_data"
    }
   ],
   "source": [
    "\n",
    "graf_knn_A_matriz = plt.figure(figsize=(15,6))\n",
    "\n",
    "\n",
    "plt.style.use('seaborn-whitegrid')\n",
    "plt.subplot(1,2,1)\n",
    "sns.set(font_scale = 1.3)\n",
    "graficos_conf_matrix(c_matrix_train,'Knn Data_Train')\n",
    "\n",
    "plt.style.use('seaborn-whitegrid')\n",
    "plt.subplot(1,2,2)\n",
    "sns.set(font_scale = 1.3)\n",
    "graficos_conf_matrix(c_matrix_test,'Knn Data_Test')\n",
    "\n",
    "\n",
    "graf_knn_A_matriz.savefig ('../util/Graficos/graf_knn_A_matriz.png')"
   ]
  }
 ],
 "metadata": {
  "interpreter": {
   "hash": "bc09c3e9f0d6bc51beb94b89199d3340d732cea172a24cd65764c101d25e5f2c"
  },
  "kernelspec": {
   "display_name": "Python 3.7.4 64-bit",
   "language": "python",
   "name": "python3"
  },
  "language_info": {
   "codemirror_mode": {
    "name": "ipython",
    "version": 3
   },
   "file_extension": ".py",
   "mimetype": "text/x-python",
   "name": "python",
   "nbconvert_exporter": "python",
   "pygments_lexer": "ipython3",
   "version": "3.7.4"
  },
  "orig_nbformat": 4
 },
 "nbformat": 4,
 "nbformat_minor": 2
}
