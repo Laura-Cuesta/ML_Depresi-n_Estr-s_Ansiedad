{
 "cells": [
  {
   "cell_type": "code",
   "execution_count": 1,
   "metadata": {},
   "outputs": [],
   "source": [
    "# COMENZAMOS CON EL ENTRENAMIENTO DE LOS MODELOSfrom sklearn.model_selection import train_test_split\n",
    "\n",
    "import pandas as pd\n",
    "import matplotlib.pyplot as plt\n",
    "import seaborn as sns\n",
    "import numpy as np\n",
    "from sys import path\n",
    "sys.path.append('C:\\\\Users\\\\Laura\\\\Desktop\\\\Nueva carpeta\\\\Code\\\\util')\n",
    "\n",
    "from funciones import graficos_conf_matrix\n",
    "\n",
    "from sklearn.pipeline import Pipeline\n",
    "from sklearn.model_selection import GridSearchCV, RandomizedSearchCV\n",
    "\n",
    "from sklearn.model_selection import train_test_split\n",
    "from sklearn.metrics import roc_auc_score, accuracy_score,confusion_matrix,recall_score, f1_score\n",
    "from sklearn.ensemble import RandomForestClassifier\n",
    "from sklearn.pipeline import Pipeline\n",
    "import pickle"
   ]
  },
  {
   "cell_type": "code",
   "execution_count": 2,
   "metadata": {},
   "outputs": [],
   "source": [
    "# IMPORTAMOS EL CSV YA LIMPIO .\n",
    "# LO VAMOS A DIVIDIR EN DOS, UNA PARTE PARA EL ENTRENAMIENTO-PREDICCIONES Y OTRA PARTE PARA EL TEST, COMO SI DE DATOS REALES SE TRATARAN\n",
    "\n",
    "\n",
    "data_train = pd.read_csv('../Data/Processed/data_processed.csv', index_col=0)\n",
    "\n",
    "data_train = data_train.iloc[:int(data_train.shape[0]*60/100), :]\n",
    "data_test = data_train.iloc[int(data_train.shape[0]*60/100) : , :]"
   ]
  },
  {
   "cell_type": "code",
   "execution_count": 3,
   "metadata": {},
   "outputs": [],
   "source": [
    "# DIVIDIMOS EN DATA_TRAIN EN TRAIN Y TEST\n",
    "\n",
    "\n",
    "X_train, X_test, y_train, y_test = train_test_split(data_train.drop(columns=['Target','Anxiety','Stress'], axis=1), data_train.Target, random_state=0, test_size=0.20, shuffle=True)\n",
    "\n"
   ]
  },
  {
   "cell_type": "markdown",
   "metadata": {},
   "source": [
    "RANDOM FOREST"
   ]
  },
  {
   "cell_type": "code",
   "execution_count": 4,
   "metadata": {},
   "outputs": [
    {
     "data": {
      "text/plain": [
       "RandomizedSearchCV(cv=5, estimator=RandomForestClassifier(), n_iter=100,\n",
       "                   param_distributions={'criterion': ['gini', 'entropy'],\n",
       "                                        'max_depth': range(2, 5),\n",
       "                                        'max_leaf_nodes': range(2, 10),\n",
       "                                        'min_samples_split': range(50, 300, 50),\n",
       "                                        'n_estimators': range(100, 500, 100),\n",
       "                                        'random_state': [42]},\n",
       "                   scoring='roc_auc')"
      ]
     },
     "execution_count": 4,
     "metadata": {},
     "output_type": "execute_result"
    }
   ],
   "source": [
    "# CREACION DE PIPELINE INICIAL.\n",
    "# HACEMOS UN RANDOMIZE CON CROSS VALIDATIION PORQUE TARDA MENOS\n",
    "# LO INSTANCIAMOS\n",
    "model_rf = RandomForestClassifier() \n",
    "\n",
    "\n",
    "params = {'n_estimators' : range(100,500,100),\n",
    "           'criterion': ['gini', 'entropy'],\n",
    "           'max_depth':range(2,5),\n",
    "           'max_leaf_nodes':range(2,10),\n",
    "           'min_samples_split':range(50,300,50),\n",
    "           'random_state' : [42],\n",
    "            }\n",
    "\n",
    "\n",
    "random_forest_gtc = RandomizedSearchCV(model_rf, params, cv=5, scoring='roc_auc', n_iter=100)\n",
    "random_forest_gtc.fit(X_train, y_train)"
   ]
  },
  {
   "cell_type": "code",
   "execution_count": 5,
   "metadata": {},
   "outputs": [
    {
     "name": "stdout",
     "output_type": "stream",
     "text": [
      "{'random_state': 42, 'n_estimators': 200, 'min_samples_split': 150, 'max_leaf_nodes': 8, 'max_depth': 4, 'criterion': 'entropy'}\n",
      "RandomForestClassifier(criterion='entropy', max_depth=4, max_leaf_nodes=8,\n",
      "                       min_samples_split=150, n_estimators=200,\n",
      "                       random_state=42)\n"
     ]
    }
   ],
   "source": [
    "# SACAMOS LOS MEJORES PARÁMETROS PARA ENTRENAR EL MODELO\n",
    "\n",
    "print (random_forest_gtc.best_params_)\n",
    "print (random_forest_gtc.best_estimator_)"
   ]
  },
  {
   "cell_type": "code",
   "execution_count": 6,
   "metadata": {},
   "outputs": [],
   "source": [
    "#CREAMOS UN NUEVO PIPELINE CON EL RESULTADO MEJOR RESULTADO DEL GRIDSEARCH\n",
    "model_rf_V2 = random_forest_gtc.best_estimator_"
   ]
  },
  {
   "cell_type": "code",
   "execution_count": 7,
   "metadata": {},
   "outputs": [
    {
     "data": {
      "text/plain": [
       "RandomForestClassifier(criterion='entropy', max_depth=4, max_leaf_nodes=8,\n",
       "                       min_samples_split=150, n_estimators=200,\n",
       "                       random_state=42)"
      ]
     },
     "execution_count": 7,
     "metadata": {},
     "output_type": "execute_result"
    }
   ],
   "source": [
    "model_rf_V2"
   ]
  },
  {
   "cell_type": "code",
   "execution_count": 8,
   "metadata": {},
   "outputs": [],
   "source": [
    "# ENTRENAMOS EL MODELO Y SACAMOS LAS PREDICCIONES\n",
    "model_rf_V2\n",
    "model_rf_V2.fit(X_train,y_train)\n",
    "y_predi = model_rf_V2.predict(X_test)"
   ]
  },
  {
   "cell_type": "code",
   "execution_count": 9,
   "metadata": {},
   "outputs": [],
   "source": [
    "# PASAMOS LAS METRICAS A UN DATAFRAM\n",
    "\n",
    "df_scores = pd.read_csv('../Model/scores_models_Roc.csv', index_col=0)\n",
    "df_scores['rf_train'] =[recall_score(y_test,y_predi), roc_auc_score(y_test,y_predi),  accuracy_score(y_test, y_predi), f1_score(y_test, y_predi)]\n",
    "\n",
    "\n",
    "df_scores"
   ]
  },
  {
   "cell_type": "code",
   "execution_count": 10,
   "metadata": {},
   "outputs": [],
   "source": [
    "# GUARDAMOS LA CONFUSION MATRIX PARA DESPUES GRAFICARLA\n",
    "c_matrix_train = confusion_matrix(y_test, y_predi)"
   ]
  },
  {
   "cell_type": "code",
   "execution_count": 11,
   "metadata": {},
   "outputs": [],
   "source": [
    "# GUARDAMOS EL MODELO\n",
    "\n",
    "with open('../Model/model_rf_V2', 'wb') as archivo_salida:\n",
    "    pickle.dump(model_rf_V2, archivo_salida)"
   ]
  },
  {
   "cell_type": "code",
   "execution_count": 12,
   "metadata": {},
   "outputs": [],
   "source": [
    "# PROBAMOS EL MODELO CON LOS DATOS RESERVADOS PARA VER COMO GENERALIZA\n",
    "\n",
    "X = data_test.drop(columns=['Target','Anxiety','Stress'], axis=1)\n",
    "y= data_test.Target\n",
    "\n",
    "with open('../Model/model_rf_V2', 'rb') as archivo_entrada:\n",
    "    loaded_model = pickle.load(archivo_entrada)"
   ]
  },
  {
   "cell_type": "code",
   "execution_count": 13,
   "metadata": {},
   "outputs": [
    {
     "data": {
      "text/plain": [
       "RandomForestClassifier(criterion='entropy', max_depth=4, max_leaf_nodes=8,\n",
       "                       min_samples_split=150, n_estimators=200,\n",
       "                       random_state=42)"
      ]
     },
     "execution_count": 13,
     "metadata": {},
     "output_type": "execute_result"
    }
   ],
   "source": [
    "loaded_model"
   ]
  },
  {
   "cell_type": "code",
   "execution_count": 14,
   "metadata": {},
   "outputs": [],
   "source": [
    "# PASAMOS LAS METRICAS A UN DATAFRAM\n",
    "df_scores['rf_test'] =[recall_score(y,loaded_model.predict(X)), roc_auc_score(y,loaded_model.predict(X)), accuracy_score(y, loaded_model.predict(X)), f1_score(y, loaded_model.predict(X))]\n",
    "df_scores.to_csv('../Model/scores_models_Roc.csv')\n",
    "df_scores"
   ]
  },
  {
   "cell_type": "code",
   "execution_count": 15,
   "metadata": {},
   "outputs": [],
   "source": [
    "# GUARDAMOS LA CONFUSION MATRIX PARA DESPUES GRAFICARLA\n",
    "c_matrix_test = confusion_matrix(y,loaded_model.predict(X))"
   ]
  },
  {
   "cell_type": "code",
   "execution_count": 17,
   "metadata": {},
   "outputs": [
    {
     "data": {
      "image/png": "[encoded data removed]",
      "text/plain": [
       "<Figure size 1080x432 with 4 Axes>"
      ]
     },
     "metadata": {},
     "output_type": "display_data"
    }
   ],
   "source": [
    "\n",
    "\n",
    "graf_rf_Roc_matriz = plt.figure(figsize=(15,6))\n",
    "\n",
    "\n",
    "plt.style.use('seaborn-whitegrid')\n",
    "plt.subplot(1,2,1)\n",
    "sns.set(font_scale = 1.3)\n",
    "graficos_conf_matrix(c_matrix_train,'Random Forest Train')\n",
    "\n",
    "\n",
    "plt.style.use('seaborn-whitegrid')\n",
    "plt.subplot(1,2,2)\n",
    "sns.set(font_scale = 1.3)\n",
    "graficos_conf_matrix(c_matrix_test,'Random Forest Test')\n",
    "\n",
    "\n",
    "graf_rf_Roc_matriz.savefig ('../util/Graficos/graf_rf_Roc_matriz.png')"
   ]
  },
  {
   "cell_type": "code",
   "execution_count": null,
   "metadata": {},
   "outputs": [],
   "source": []
  }
 ],
 "metadata": {
  "interpreter": {
   "hash": "bc09c3e9f0d6bc51beb94b89199d3340d732cea172a24cd65764c101d25e5f2c"
  },
  "kernelspec": {
   "display_name": "Python 3.7.4 64-bit",
   "language": "python",
   "name": "python3"
  },
  "language_info": {
   "codemirror_mode": {
    "name": "ipython",
    "version": 3
   },
   "file_extension": ".py",
   "mimetype": "text/x-python",
   "name": "python",
   "nbconvert_exporter": "python",
   "pygments_lexer": "ipython3",
   "version": "3.7.4"
  },
  "orig_nbformat": 4
 },
 "nbformat": 4,
 "nbformat_minor": 2
}
