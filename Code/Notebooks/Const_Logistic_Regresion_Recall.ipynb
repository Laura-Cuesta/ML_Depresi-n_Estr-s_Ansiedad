{
 "cells": [
  {
   "cell_type": "code",
   "execution_count": 3,
   "metadata": {},
   "outputs": [],
   "source": [
    "# COMENZAMOS CON EL ENTRENAMIENTO DE LOS MODELOSfrom sklearn.model_selection import train_test_split\n",
    "\n",
    "import pandas as pd\n",
    "import matplotlib.pyplot as plt\n",
    "import seaborn as sns\n",
    "import numpy as np\n",
    "from sys import path\n",
    "sys.path.append('C:\\\\Users\\\\Laura\\\\Desktop\\\\Nueva carpeta\\\\Code\\\\util')\n",
    "\n",
    "from funciones import graficos_conf_matrix\n",
    "\n",
    "from sklearn.preprocessing import MinMaxScaler\n",
    "from sklearn.model_selection import GridSearchCV\n",
    "from sklearn.model_selection import train_test_split\n",
    "from sklearn.metrics import roc_auc_score, accuracy_score,confusion_matrix,recall_score, f1_score\n",
    "from sklearn.linear_model import LogisticRegression\n",
    "\n",
    "\n",
    "from sklearn.neighbors import KNeighborsClassifier\n",
    "from sklearn.pipeline import Pipeline\n",
    "import pickle\n"
   ]
  },
  {
   "cell_type": "code",
   "execution_count": 4,
   "metadata": {},
   "outputs": [],
   "source": [
    "# IMPORTAMOS EL CSV YA LIMPIO .\n",
    "# LO VAMOS A DIVIDIR EN DOS, UNA PARTE PARA EL ENTRENAMIENTO-PREDICCIONES Y OTRA PARTE PARA EL TEST, COMO SI DE DATOS REALES SE TRATARAN\n",
    "\n",
    "\n",
    "data_train = pd.read_csv('../Data/Processed/data_processed.csv', index_col=0)\n",
    "\n",
    "data_train = data_train.iloc[:int(data_train.shape[0]*60/100), :]\n",
    "data_test = data_train.iloc[int(data_train.shape[0]*60/100) : , :]"
   ]
  },
  {
   "cell_type": "code",
   "execution_count": 9,
   "metadata": {},
   "outputs": [],
   "source": [
    "# DIVIDIMOS EN DATA_TRAIN EN TRAIN Y TEST\n",
    "\n",
    "\n",
    "X_train, X_test, y_train, y_test = train_test_split(data_train.drop(columns=['Target','Anxiety','Stress'], axis=1), data_train.Target, random_state=0, test_size=0.20, shuffle=True)\n",
    "\n"
   ]
  },
  {
   "cell_type": "markdown",
   "metadata": {},
   "source": [
    "LOGISTIC REGRESION"
   ]
  },
  {
   "cell_type": "code",
   "execution_count": null,
   "metadata": {},
   "outputs": [],
   "source": [
    "# CREACION DE PIPELINE INICIAL.\n",
    "# HACEMOS UN GRIDSEARCH CON CROSS VALIDATIION\n",
    "# LO INSTANCIAMOS\n",
    "model_lr = Pipeline (steps = [\n",
    "                     ('scaler', MinMaxScaler()),\n",
    "                     ('lr', LogisticRegression())]\n",
    "                    ) \n",
    "\n",
    "\n",
    "params = {'lr__penalty' : ['l1','l2','elasticnet'],\n",
    "              'lr__solver': ['newton-cg', 'lbfgs', 'liblinear', 'sag'],\n",
    "              'lr__max_iter': [100,200,300,400,500],\n",
    "              'lr__C': [0.8,0.5,0.3]\n",
    "            }\n",
    "\n",
    "\n",
    "logistic_gtc = GridSearchCV(model_lr, params, cv=5, scoring='recall')\n",
    "logistic_gtc.fit(X_train, y_train)"
   ]
  },
  {
   "cell_type": "code",
   "execution_count": 11,
   "metadata": {},
   "outputs": [
    {
     "name": "stdout",
     "output_type": "stream",
     "text": [
      "{'lr__C': 0.3, 'lr__max_iter': 100, 'lr__penalty': 'l2', 'lr__solver': 'newton-cg'}\n",
      "Pipeline(steps=[('scaler', MinMaxScaler()),\n",
      "                ('lr', LogisticRegression(C=0.3, solver='newton-cg'))])\n"
     ]
    }
   ],
   "source": [
    "# SACAMOS LOS MEJORES PARÁMETROS PARA ENTRENAR EL MODELO\n",
    "\n",
    "print (logistic_gtc.best_params_)\n",
    "print (logistic_gtc.best_estimator_)"
   ]
  },
  {
   "cell_type": "code",
   "execution_count": 12,
   "metadata": {},
   "outputs": [],
   "source": [
    "#CREAMOS UN NUEVO PIPELINE CON EL RESULTADO MEJOR RESULTADO DEL GRIDSEARCH\n",
    "model_lr_V0 = logistic_gtc.best_estimator_"
   ]
  },
  {
   "cell_type": "code",
   "execution_count": 13,
   "metadata": {},
   "outputs": [],
   "source": [
    "# ENTRENAMOS EL MODELO Y SACAMOS LAS PREDICCIONES\n",
    "model_lr_V0\n",
    "model_lr_V0.fit(X_train,y_train)\n",
    "y_predi = model_lr_V0.predict(X_test)"
   ]
  },
  {
   "cell_type": "code",
   "execution_count": 14,
   "metadata": {},
   "outputs": [],
   "source": [
    "# PASAMOS LAS METRICAS A UN DATAFRAME MENO LA CONFUSION MATRIX\n",
    "df_scores = {'log_re_data_train' :[recall_score(y_test,y_predi), roc_auc_score(y_test,y_predi),  accuracy_score(y_test, y_predi), f1_score(y_test, y_predi)]}\n",
    "df_scores = pd.DataFrame(df_scores, index=['Recall','Auc','Accuracy', 'F1_score'])\n",
    "df_scores"
   ]
  },
  {
   "cell_type": "code",
   "execution_count": 15,
   "metadata": {},
   "outputs": [],
   "source": [
    "# GUARDAMOS LA CONFUSION MATRIX PARA DESPUES GRAFICARLA\n",
    "c_matrix_train = confusion_matrix(y_test, y_predi)"
   ]
  },
  {
   "cell_type": "code",
   "execution_count": 16,
   "metadata": {},
   "outputs": [],
   "source": [
    "# GUARDAMOS EL MODELO\n",
    "\n",
    "with open('../Model/model_logist_V0', 'wb') as archivo_salida:\n",
    "    pickle.dump(model_lr_V0, archivo_salida)\n"
   ]
  },
  {
   "cell_type": "code",
   "execution_count": 17,
   "metadata": {},
   "outputs": [],
   "source": [
    "# PROBAMOS EL MODELO CON LOS DATOS RESERVADOS PARA VER COMO GENERALIZA\n",
    "\n",
    "X = data_test.drop(columns=['Target','Anxiety','Stress'], axis=1)\n",
    "y= data_test.Target\n",
    "\n",
    "with open('../Model/model_logist_V0', 'rb') as archivo_entrada:\n",
    "    loaded_model = pickle.load(archivo_entrada)"
   ]
  },
  {
   "cell_type": "code",
   "execution_count": 18,
   "metadata": {},
   "outputs": [],
   "source": [
    "# PASAMOS LAS METRICAS A UN DATAFRAM\n",
    "df_scores['log_re_test'] =[recall_score(y,loaded_model.predict(X)), roc_auc_score(y,loaded_model.predict(X)), accuracy_score(y, loaded_model.predict(X)), f1_score(y, loaded_model.predict(X))]\n",
    "df_scores.to_csv('../Model/scores_models_Recall.csv')\n",
    "df_scores"
   ]
  },
  {
   "cell_type": "code",
   "execution_count": 19,
   "metadata": {},
   "outputs": [],
   "source": [
    "# GUARDAMOS LA CONFUSION MATRIX PARA DESPUES GRAFICARLA\n",
    "c_matrix_test = confusion_matrix(y,loaded_model.predict(X))"
   ]
  },
  {
   "cell_type": "code",
   "execution_count": 23,
   "metadata": {},
   "outputs": [
    {
     "data": {
      "image/png": "[encoded data removed]",
      "text/plain": [
       "<Figure size 1080x432 with 4 Axes>"
      ]
     },
     "metadata": {},
     "output_type": "display_data"
    }
   ],
   "source": [
    "graf_lg_R_matriz = plt.figure(figsize=(15,6))\n",
    "\n",
    "plt.style.use('seaborn-whitegrid')\n",
    "plt.subplot(1,2,1)\n",
    "sns.set(font_scale = 1.3)\n",
    "graficos_conf_matrix(c_matrix_train,'Logistic Regresión Train')\n",
    "plt.style.use('seaborn-whitegrid')\n",
    "plt.subplot(1,2,2)\n",
    "sns.set(font_scale = 1.3)\n",
    "graficos_conf_matrix(c_matrix_test,'Logistic Regresión Test')\n",
    "\n",
    "graf_lg_R_matriz.savefig ('../util/Graficos/graf_lg_R_matriz.png')"
   ]
  }
 ],
 "metadata": {
  "interpreter": {
   "hash": "bc09c3e9f0d6bc51beb94b89199d3340d732cea172a24cd65764c101d25e5f2c"
  },
  "kernelspec": {
   "display_name": "Python 3.7.4 64-bit",
   "language": "python",
   "name": "python3"
  },
  "language_info": {
   "codemirror_mode": {
    "name": "ipython",
    "version": 3
   },
   "file_extension": ".py",
   "mimetype": "text/x-python",
   "name": "python",
   "nbconvert_exporter": "python",
   "pygments_lexer": "ipython3",
   "version": "3.7.4"
  },
  "orig_nbformat": 4
 },
 "nbformat": 4,
 "nbformat_minor": 2
}
